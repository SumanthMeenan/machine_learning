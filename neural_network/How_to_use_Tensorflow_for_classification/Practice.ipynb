{
 "cells": [
  {
   "cell_type": "code",
   "execution_count": 15,
   "metadata": {
    "collapsed": false
   },
   "outputs": [],
   "source": [
    "# Tensorflow: Library created by Google \n",
    "import pandas as pd # work with data as tables\n",
    "import numpy as np # So we can use number matrices. Both pandas and TensorFlow need it. \n",
    "import matplotlib.pyplot as plt  # Visualize the things\n",
    "import tensorflow as tf          # Fire from the gods"
   ]
  },
  {
   "cell_type": "code",
   "execution_count": 16,
   "metadata": {
    "collapsed": false
   },
   "outputs": [
    {
     "data": {
      "text/html": [
       "<div>\n",
       "<table border=\"1\" class=\"dataframe\">\n",
       "  <thead>\n",
       "    <tr style=\"text-align: right;\">\n",
       "      <th></th>\n",
       "      <th>area</th>\n",
       "      <th>bathrooms</th>\n",
       "    </tr>\n",
       "  </thead>\n",
       "  <tbody>\n",
       "    <tr>\n",
       "      <th>0</th>\n",
       "      <td>2104.0</td>\n",
       "      <td>3.0</td>\n",
       "    </tr>\n",
       "    <tr>\n",
       "      <th>1</th>\n",
       "      <td>1600.0</td>\n",
       "      <td>3.0</td>\n",
       "    </tr>\n",
       "    <tr>\n",
       "      <th>2</th>\n",
       "      <td>2400.0</td>\n",
       "      <td>3.0</td>\n",
       "    </tr>\n",
       "    <tr>\n",
       "      <th>3</th>\n",
       "      <td>1416.0</td>\n",
       "      <td>2.0</td>\n",
       "    </tr>\n",
       "    <tr>\n",
       "      <th>4</th>\n",
       "      <td>3000.0</td>\n",
       "      <td>4.0</td>\n",
       "    </tr>\n",
       "    <tr>\n",
       "      <th>5</th>\n",
       "      <td>1985.0</td>\n",
       "      <td>4.0</td>\n",
       "    </tr>\n",
       "    <tr>\n",
       "      <th>6</th>\n",
       "      <td>1534.0</td>\n",
       "      <td>3.0</td>\n",
       "    </tr>\n",
       "    <tr>\n",
       "      <th>7</th>\n",
       "      <td>1427.0</td>\n",
       "      <td>3.0</td>\n",
       "    </tr>\n",
       "    <tr>\n",
       "      <th>8</th>\n",
       "      <td>1380.0</td>\n",
       "      <td>3.0</td>\n",
       "    </tr>\n",
       "    <tr>\n",
       "      <th>9</th>\n",
       "      <td>1494.0</td>\n",
       "      <td>3.0</td>\n",
       "    </tr>\n",
       "  </tbody>\n",
       "</table>\n",
       "</div>"
      ],
      "text/plain": [
       "     area  bathrooms\n",
       "0  2104.0        3.0\n",
       "1  1600.0        3.0\n",
       "2  2400.0        3.0\n",
       "3  1416.0        2.0\n",
       "4  3000.0        4.0\n",
       "5  1985.0        4.0\n",
       "6  1534.0        3.0\n",
       "7  1427.0        3.0\n",
       "8  1380.0        3.0\n",
       "9  1494.0        3.0"
      ]
     },
     "execution_count": 16,
     "metadata": {},
     "output_type": "execute_result"
    }
   ],
   "source": [
    "# step 1 load data\n",
    "\n",
    "dataframe = pd.read_csv('data.csv') # dataframe\n",
    "# we removed the features we don't care about\n",
    "dataframe = dataframe.drop([\"index\", \"price\", \"sq_price\"], axis=1)\n",
    "dataframe = dataframe.head(10) # we decided to use the first 10 columns \n",
    "# we could've also used = dataframe[0:10]\n",
    "dataframe"
   ]
  },
  {
   "cell_type": "code",
   "execution_count": 17,
   "metadata": {
    "collapsed": false
   },
   "outputs": [
    {
     "data": {
      "text/html": [
       "<div>\n",
       "<table border=\"1\" class=\"dataframe\">\n",
       "  <thead>\n",
       "    <tr style=\"text-align: right;\">\n",
       "      <th></th>\n",
       "      <th>area</th>\n",
       "      <th>bathrooms</th>\n",
       "      <th>y1</th>\n",
       "      <th>y2</th>\n",
       "    </tr>\n",
       "  </thead>\n",
       "  <tbody>\n",
       "    <tr>\n",
       "      <th>0</th>\n",
       "      <td>2104.0</td>\n",
       "      <td>3.0</td>\n",
       "      <td>1</td>\n",
       "      <td>0</td>\n",
       "    </tr>\n",
       "    <tr>\n",
       "      <th>1</th>\n",
       "      <td>1600.0</td>\n",
       "      <td>3.0</td>\n",
       "      <td>1</td>\n",
       "      <td>0</td>\n",
       "    </tr>\n",
       "    <tr>\n",
       "      <th>2</th>\n",
       "      <td>2400.0</td>\n",
       "      <td>3.0</td>\n",
       "      <td>1</td>\n",
       "      <td>0</td>\n",
       "    </tr>\n",
       "    <tr>\n",
       "      <th>3</th>\n",
       "      <td>1416.0</td>\n",
       "      <td>2.0</td>\n",
       "      <td>0</td>\n",
       "      <td>1</td>\n",
       "    </tr>\n",
       "    <tr>\n",
       "      <th>4</th>\n",
       "      <td>3000.0</td>\n",
       "      <td>4.0</td>\n",
       "      <td>0</td>\n",
       "      <td>1</td>\n",
       "    </tr>\n",
       "    <tr>\n",
       "      <th>5</th>\n",
       "      <td>1985.0</td>\n",
       "      <td>4.0</td>\n",
       "      <td>1</td>\n",
       "      <td>0</td>\n",
       "    </tr>\n",
       "    <tr>\n",
       "      <th>6</th>\n",
       "      <td>1534.0</td>\n",
       "      <td>3.0</td>\n",
       "      <td>0</td>\n",
       "      <td>1</td>\n",
       "    </tr>\n",
       "    <tr>\n",
       "      <th>7</th>\n",
       "      <td>1427.0</td>\n",
       "      <td>3.0</td>\n",
       "      <td>1</td>\n",
       "      <td>0</td>\n",
       "    </tr>\n",
       "    <tr>\n",
       "      <th>8</th>\n",
       "      <td>1380.0</td>\n",
       "      <td>3.0</td>\n",
       "      <td>1</td>\n",
       "      <td>0</td>\n",
       "    </tr>\n",
       "    <tr>\n",
       "      <th>9</th>\n",
       "      <td>1494.0</td>\n",
       "      <td>3.0</td>\n",
       "      <td>1</td>\n",
       "      <td>0</td>\n",
       "    </tr>\n",
       "  </tbody>\n",
       "</table>\n",
       "</div>"
      ],
      "text/plain": [
       "     area  bathrooms  y1  y2\n",
       "0  2104.0        3.0   1   0\n",
       "1  1600.0        3.0   1   0\n",
       "2  2400.0        3.0   1   0\n",
       "3  1416.0        2.0   0   1\n",
       "4  3000.0        4.0   0   1\n",
       "5  1985.0        4.0   1   0\n",
       "6  1534.0        3.0   0   1\n",
       "7  1427.0        3.0   1   0\n",
       "8  1380.0        3.0   1   0\n",
       "9  1494.0        3.0   1   0"
      ]
     },
     "execution_count": 17,
     "metadata": {},
     "output_type": "execute_result"
    }
   ],
   "source": [
    "# step 2 - add labels\n",
    "# 1 is good buy and 0 is bad buy\n",
    "dataframe.loc[:, ('y1')] = [1,1,1,0,0,1,0,1,1,1]\n",
    "# y2 is the negation of y1, opposite ( we don't like a house)\n",
    "dataframe.loc[:, ('y2')] = dataframe['y1'] == 0\n",
    "# turn TRUE/FALSE values into 1s and 0s\n",
    "dataframe.loc[:, ('y2')] = dataframe['y2']. astype(int)\n",
    "dataframe"
   ]
  },
  {
   "cell_type": "code",
   "execution_count": 18,
   "metadata": {
    "collapsed": false
   },
   "outputs": [],
   "source": [
    "# Step 3- prepare data for tensorflow\n",
    "# Tensors: they are generic version of vectors and matrices\n",
    "# vector - is a list of numbers (1D tensor)\n",
    "# matrix - is a list of list of numbers (2D tensor)\n",
    "# list of list of list of numbers (3D tensor).... and so on!!\n",
    "\n",
    "# convert features into input tensors\n",
    "inputX = dataframe.loc[:, ['area', 'bathrooms']].as_matrix()\n",
    "# convert labels into input tensors\n",
    "inputY = dataframe.loc[:, ['y1', 'y2']].as_matrix()"
   ]
  },
  {
   "cell_type": "code",
   "execution_count": 19,
   "metadata": {
    "collapsed": true
   },
   "outputs": [],
   "source": [
    "# Step 4 - Write out our hyperparameters\n",
    "learning_rate = 0.000001 # how fast we reach convergence\n",
    "# how many times we are going to train our model. \n",
    "# We start with this number then we can tune our hyperparameters\n",
    "training_epochs = 2000\n",
    "display_step = 50 # how often do we wanna display the process of training\n",
    "n_samples = inputY.size # number of the sample"
   ]
  },
  {
   "cell_type": "code",
   "execution_count": 24,
   "metadata": {
    "collapsed": false
   },
   "outputs": [],
   "source": [
    "# Step 5 = Create our computation graph/neural network\n",
    "x = tf.placeholder(tf.float32, [None, 2])   # Okay TensorFlow, we'll feed you an array of examples. Each example will\n",
    "                                            # be an array of two float values (area, and number of bathrooms).\n",
    "                                            # \"None\" means we can feed you any number of examples\n",
    "                                            # Notice we haven't fed it the values yet\n",
    "# create weights\n",
    "W = tf.Variable(tf.zeros([2, 2]))           # 2x2 floar matrix, that we'll keep updating through the training\n",
    "                                            # variables in tf hold and update parameters\n",
    "                                            # in memory buffers containing tensors\n",
    "                                            # Maintain a 2 x 2 float matrix for the weights that we'll keep updating \n",
    "                                            # through the training process (make them all zero to begin with)\n",
    "# create biases \n",
    "b = tf.Variable(tf.zeros([2]))              #(example is b in y = mx+b. b here is the bias)\n",
    "                                            # it makes the model fit better\n",
    "# first calculation - multiply our weights by our inputs\n",
    "y_values = tf.add(tf.matmul(x, W), b)       # Weights are how we govern how data flows in our computation graph\n",
    "                                            # multiply inout by weights and add biases\n",
    "\n",
    "# apply softmax to value we just created\n",
    "y = tf.nn.softmax(y_values)                 # softmax is our activation function. It is the \"sigmoid function\"\n",
    "                                            # It normalizes our value that translates the\n",
    "                                            # numbers outputted by the previous layer into probability form\n",
    "# feed in a matrix of labeles\n",
    "y_ = tf.placeholder(tf.float32, [None, 2])"
   ]
  },
  {
   "cell_type": "code",
   "execution_count": 25,
   "metadata": {
    "collapsed": false
   },
   "outputs": [],
   "source": [
    "# Step 6 - PERFORM TRAINING\n",
    "# Create our cost function, \"mean squared error\"\n",
    "# reduce sum computes the sum of elements across dimensions of a tensor\n",
    "cost = tf.reduce_sum(tf.pow(y_ - y, 2))/(2*n_samples)\n",
    "# Gradient descent\n",
    "optimizer = tf.train.GradientDescentOptimizer(learning_rate).minimize(cost)"
   ]
  },
  {
   "cell_type": "code",
   "execution_count": 26,
   "metadata": {
    "collapsed": false
   },
   "outputs": [
    {
     "name": "stdout",
     "output_type": "stream",
     "text": [
      "WARNING:tensorflow:From <ipython-input-26-a206cfa2db9b>:2: initialize_all_variables (from tensorflow.python.ops.variables) is deprecated and will be removed after 2017-03-02.\n",
      "Instructions for updating:\n",
      "Use `tf.global_variables_initializer` instead.\n"
     ]
    }
   ],
   "source": [
    "# initialize variables and tensorflow session\n",
    "init = tf.initialize_all_variables()\n",
    "sess = tf.Session()\n",
    "sess.run(init)"
   ]
  },
  {
   "cell_type": "code",
   "execution_count": 29,
   "metadata": {
    "collapsed": false
   },
   "outputs": [
    {
     "name": "stdout",
     "output_type": "stream",
     "text": [
      "Training step: 0000 cost= 0.109537281\n",
      "Training step: 0050 cost= 0.109537207\n",
      "Training step: 0100 cost= 0.109537147\n",
      "Training step: 0150 cost= 0.109537080\n",
      "Training step: 0200 cost= 0.109537005\n",
      "Training step: 0250 cost= 0.109536931\n",
      "Training step: 0300 cost= 0.109536871\n",
      "Training step: 0350 cost= 0.109536804\n",
      "Training step: 0400 cost= 0.109536745\n",
      "Training step: 0450 cost= 0.109536670\n",
      "Training step: 0500 cost= 0.109536603\n",
      "Training step: 0550 cost= 0.109536529\n",
      "Training step: 0600 cost= 0.109536454\n",
      "Training step: 0650 cost= 0.109536394\n",
      "Training step: 0700 cost= 0.109536313\n",
      "Training step: 0750 cost= 0.109536268\n",
      "Training step: 0800 cost= 0.109536193\n",
      "Training step: 0850 cost= 0.109536126\n",
      "Training step: 0900 cost= 0.109536052\n",
      "Training step: 0950 cost= 0.109535977\n",
      "Training step: 1000 cost= 0.109535910\n",
      "Training step: 1050 cost= 0.109535851\n",
      "Training step: 1100 cost= 0.109535791\n",
      "Training step: 1150 cost= 0.109535709\n",
      "Training step: 1200 cost= 0.109535649\n",
      "Training step: 1250 cost= 0.109535575\n",
      "Training step: 1300 cost= 0.109535500\n",
      "Training step: 1350 cost= 0.109535433\n",
      "Training step: 1400 cost= 0.109535374\n",
      "Training step: 1450 cost= 0.109535299\n",
      "Training step: 1500 cost= 0.109535240\n",
      "Training step: 1550 cost= 0.109535173\n",
      "Training step: 1600 cost= 0.109535098\n",
      "Training step: 1650 cost= 0.109535024\n",
      "Training step: 1700 cost= 0.109534957\n",
      "Training step: 1750 cost= 0.109534882\n",
      "Training step: 1800 cost= 0.109534815\n",
      "Training step: 1850 cost= 0.109534763\n",
      "Training step: 1900 cost= 0.109534696\n",
      "Training step: 1950 cost= 0.109534621\n",
      "Optimization Finished!\n",
      "Training cost= 0.109535 W= [[ 0.00021405 -0.00021405]\n",
      " [ 0.00010217 -0.00010217]] b= [  2.37067234e-05  -2.37067343e-05] \n",
      "\n"
     ]
    }
   ],
   "source": [
    "# Training Loop\n",
    "for i in range(training_epochs):\n",
    "    sess.run(optimizer, feed_dict={x:inputX, y_:inputY})\n",
    "\n",
    "    # That's all! The rest of the cell just outputs debug messages. \n",
    "    # Display logs per epoch step\n",
    "    if (i) % display_step == 0:\n",
    "        cc = sess.run(cost, feed_dict={x: inputX, y_:inputY})\n",
    "        print(\"Training step:\", '%04d' % (i), \"cost=\", \"{:.9f}\".format(cc)) #, \\\"W=\", sess.run(W), \"b=\", sess.run(b)\n",
    "\n",
    "print(\"Optimization Finished!\")\n",
    "training_cost = sess.run(cost, feed_dict={x: inputX, y_: inputY})\n",
    "print(\"Training cost=\", training_cost, \"W=\", sess.run(W), \"b=\", sess.run(b), '\\n')"
   ]
  },
  {
   "cell_type": "code",
   "execution_count": 30,
   "metadata": {
    "collapsed": false
   },
   "outputs": [
    {
     "data": {
      "text/plain": [
       "array([[ 0.71123087,  0.28876919],\n",
       "       [ 0.66498965,  0.33501032],\n",
       "       [ 0.73654455,  0.26345551],\n",
       "       [ 0.64717317,  0.3528268 ],\n",
       "       [ 0.78332442,  0.21667559],\n",
       "       [ 0.70069939,  0.29930058],\n",
       "       [ 0.65866619,  0.34133381],\n",
       "       [ 0.64829433,  0.3517057 ],\n",
       "       [ 0.64369309,  0.35630691],\n",
       "       [ 0.65480596,  0.34519401]], dtype=float32)"
      ]
     },
     "execution_count": 30,
     "metadata": {},
     "output_type": "execute_result"
    }
   ],
   "source": [
    "sess.run(y, feed_dict={x: inputX })"
   ]
  },
  {
   "cell_type": "code",
   "execution_count": null,
   "metadata": {
    "collapsed": true
   },
   "outputs": [],
   "source": []
  }
 ],
 "metadata": {
  "anaconda-cloud": {},
  "kernelspec": {
   "display_name": "Python [default]",
   "language": "python",
   "name": "python3"
  },
  "language_info": {
   "codemirror_mode": {
    "name": "ipython",
    "version": 3
   },
   "file_extension": ".py",
   "mimetype": "text/x-python",
   "name": "python",
   "nbconvert_exporter": "python",
   "pygments_lexer": "ipython3",
   "version": "3.5.2"
  }
 },
 "nbformat": 4,
 "nbformat_minor": 1
}
